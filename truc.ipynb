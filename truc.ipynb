{
 "cells": [
  {
   "cell_type": "code",
   "execution_count": null,
   "metadata": {},
   "outputs": [],
   "source": []
  },
  {
   "cell_type": "code",
   "execution_count": 455,
   "metadata": {},
   "outputs": [],
   "source": [
    "import pandas as pd\n",
    "import numpy as np \n",
    "import matplotlib.pyplot as plt\n",
    "import sys\n",
    "import matplotlib\n",
    "import seaborn as sns\n",
    "%matplotlib inline \n",
    "\n",
    "\n",
    "\n"
   ]
  },
  {
   "cell_type": "code",
   "execution_count": 456,
   "metadata": {},
   "outputs": [],
   "source": [
    "pf = pd.read_csv(\"listings.csv\")"
   ]
  },
  {
   "cell_type": "markdown",
   "metadata": {},
   "source": [
    "Quel sont les pourcentages d'acceptation et de réponse moyen des host ?"
   ]
  },
  {
   "cell_type": "code",
   "execution_count": 457,
   "metadata": {},
   "outputs": [
    {
     "data": {
      "text/plain": [
       "Index(['id', 'listing_url', 'scrape_id', 'last_scraped', 'source', 'name',\n",
       "       'description', 'neighborhood_overview', 'picture_url', 'host_id',\n",
       "       'host_url', 'host_name', 'host_since', 'host_location', 'host_about',\n",
       "       'host_response_time', 'host_response_rate', 'host_acceptance_rate',\n",
       "       'host_is_superhost', 'host_thumbnail_url', 'host_picture_url',\n",
       "       'host_neighbourhood', 'host_listings_count',\n",
       "       'host_total_listings_count', 'host_verifications',\n",
       "       'host_has_profile_pic', 'host_identity_verified', 'neighbourhood',\n",
       "       'neighbourhood_cleansed', 'neighbourhood_group_cleansed', 'latitude',\n",
       "       'longitude', 'property_type', 'room_type', 'accommodates', 'bathrooms',\n",
       "       'bathrooms_text', 'bedrooms', 'beds', 'amenities', 'price',\n",
       "       'minimum_nights', 'maximum_nights', 'minimum_minimum_nights',\n",
       "       'maximum_minimum_nights', 'minimum_maximum_nights',\n",
       "       'maximum_maximum_nights', 'minimum_nights_avg_ntm',\n",
       "       'maximum_nights_avg_ntm', 'calendar_updated', 'has_availability',\n",
       "       'availability_30', 'availability_60', 'availability_90',\n",
       "       'availability_365', 'calendar_last_scraped', 'number_of_reviews',\n",
       "       'number_of_reviews_ltm', 'number_of_reviews_l30d', 'first_review',\n",
       "       'last_review', 'review_scores_rating', 'review_scores_accuracy',\n",
       "       'review_scores_cleanliness', 'review_scores_checkin',\n",
       "       'review_scores_communication', 'review_scores_location',\n",
       "       'review_scores_value', 'license', 'instant_bookable',\n",
       "       'calculated_host_listings_count',\n",
       "       'calculated_host_listings_count_entire_homes',\n",
       "       'calculated_host_listings_count_private_rooms',\n",
       "       'calculated_host_listings_count_shared_rooms', 'reviews_per_month'],\n",
       "      dtype='object')"
      ]
     },
     "execution_count": 457,
     "metadata": {},
     "output_type": "execute_result"
    }
   ],
   "source": [
    "pf.columns"
   ]
  },
  {
   "cell_type": "code",
   "execution_count": 458,
   "metadata": {},
   "outputs": [
    {
     "data": {
      "text/plain": [
       "neighbourhood_group_cleansed\n",
       "Ambars-et-Lagrave               65\n",
       "Ambs                            49\n",
       "Artigues-Prs-Bordeaux           91\n",
       "Bassens                         30\n",
       "Bgles                          375\n",
       "Blanquefort                     97\n",
       "Bordeaux                      4622\n",
       "Bouliac                         72\n",
       "Bruges                         163\n",
       "Carbon-Blanc                    42\n",
       "Cenon                          203\n",
       "Eysines                        133\n",
       "Floirac                        122\n",
       "Gradignan                      159\n",
       "Le Bouscat                     270\n",
       "Le Haillan                      43\n",
       "Le Taillan-Mdoc                 68\n",
       "Lormont                        118\n",
       "Martignas-sur-Jalle             58\n",
       "Merignac                       518\n",
       "Parempuyre                      51\n",
       "Pessac                         427\n",
       "Saint-Aubin-de-Mdoc             80\n",
       "Saint-Louis-de-Montferrand      12\n",
       "Saint-Mdard-en-Jalles          188\n",
       "Saint-Vincent-de-Paul           28\n",
       "Talence                        429\n",
       "Villenave-d'Ornon              287\n",
       "Name: host_id, dtype: int64"
      ]
     },
     "execution_count": 458,
     "metadata": {},
     "output_type": "execute_result"
    }
   ],
   "source": [
    "listGroupbyNeight =  pf.groupby(pf.neighbourhood_group_cleansed)\n",
    "listGroupbyNeight.host_id.nunique()\n"
   ]
  },
  {
   "cell_type": "code",
   "execution_count": 459,
   "metadata": {},
   "outputs": [],
   "source": [
    "jp = listGroupbyNeight.number_of_reviews.sum()"
   ]
  },
  {
   "cell_type": "code",
   "execution_count": 460,
   "metadata": {},
   "outputs": [],
   "source": [
    "jp.to_csv(\"nbhost.csv\")"
   ]
  },
  {
   "cell_type": "code",
   "execution_count": null,
   "metadata": {},
   "outputs": [],
   "source": []
  },
  {
   "cell_type": "code",
   "execution_count": 461,
   "metadata": {},
   "outputs": [],
   "source": [
    "jpp = listGroupbyNeight.number_of_reviews.count()"
   ]
  },
  {
   "cell_type": "code",
   "execution_count": 462,
   "metadata": {},
   "outputs": [],
   "source": [
    "jpp.to_csv(\"nb_review.csv\")"
   ]
  },
  {
   "cell_type": "markdown",
   "metadata": {},
   "source": [
    "ON A DONC LA REPONSE A LA QUESTION 1"
   ]
  },
  {
   "cell_type": "code",
   "execution_count": 563,
   "metadata": {},
   "outputs": [
    {
     "name": "stderr",
     "output_type": "stream",
     "text": [
      "/tmp/ipykernel_79782/2154159068.py:2: SettingWithCopyWarning: \n",
      "A value is trying to be set on a copy of a slice from a DataFrame.\n",
      "Try using .loc[row_indexer,col_indexer] = value instead\n",
      "\n",
      "See the caveats in the documentation: https://pandas.pydata.org/pandas-docs/stable/user_guide/indexing.html#returning-a-view-versus-a-copy\n",
      "  truc.amenities = truc.amenities.astype(\"string\")\n",
      "/tmp/ipykernel_79782/2154159068.py:3: SettingWithCopyWarning: \n",
      "A value is trying to be set on a copy of a slice from a DataFrame.\n",
      "Try using .loc[row_indexer,col_indexer] = value instead\n",
      "\n",
      "See the caveats in the documentation: https://pandas.pydata.org/pandas-docs/stable/user_guide/indexing.html#returning-a-view-versus-a-copy\n",
      "  truc[\"lenght\"] = truc.amenities.str.count(\",\")\n",
      "/tmp/ipykernel_79782/2154159068.py:4: SettingWithCopyWarning: \n",
      "A value is trying to be set on a copy of a slice from a DataFrame.\n",
      "Try using .loc[row_indexer,col_indexer] = value instead\n",
      "\n",
      "See the caveats in the documentation: https://pandas.pydata.org/pandas-docs/stable/user_guide/indexing.html#returning-a-view-versus-a-copy\n",
      "  truc[\"lenght\"] = truc.lenght.astype(int)\n",
      "/tmp/ipykernel_79782/2154159068.py:5: SettingWithCopyWarning: \n",
      "A value is trying to be set on a copy of a slice from a DataFrame.\n",
      "Try using .loc[row_indexer,col_indexer] = value instead\n",
      "\n",
      "See the caveats in the documentation: https://pandas.pydata.org/pandas-docs/stable/user_guide/indexing.html#returning-a-view-versus-a-copy\n",
      "  truc[\"lenght\"] = truc.lenght.apply(lambda x:x+1)\n"
     ]
    }
   ],
   "source": [
    "truc = pf[[\"room_type\",\"amenities\"]]\n",
    "truc.amenities = truc.amenities.astype(\"string\")\n",
    "truc[\"lenght\"] = truc.amenities.str.count(\",\")\n",
    "truc[\"lenght\"] = truc.lenght.astype(int)\n",
    "truc[\"lenght\"] = truc.lenght.apply(lambda x:x+1)"
   ]
  },
  {
   "cell_type": "code",
   "execution_count": 558,
   "metadata": {},
   "outputs": [
    {
     "name": "stderr",
     "output_type": "stream",
     "text": [
      "/tmp/ipykernel_79782/3601735976.py:1: FutureWarning: The default value of numeric_only in DataFrameGroupBy.mean is deprecated. In a future version, numeric_only will default to False. Either specify numeric_only or select only columns which should be valid for the function.\n",
      "  q1 = truc.groupby(\"room_type\").mean()\n"
     ]
    }
   ],
   "source": [
    "q1 = truc.groupby(\"room_type\").mean()"
   ]
  },
  {
   "cell_type": "code",
   "execution_count": null,
   "metadata": {},
   "outputs": [],
   "source": [
    "q1.to_csv(\"premiere_question.csv\")"
   ]
  },
  {
   "cell_type": "code",
   "execution_count": null,
   "metadata": {},
   "outputs": [],
   "source": [
    "q1_2 = truc.groupby(\"room_type\").std() \n",
    "q1_2.to_csv(\"premierequestiond.csv\")"
   ]
  },
  {
   "cell_type": "code",
   "execution_count": null,
   "metadata": {},
   "outputs": [
    {
     "name": "stderr",
     "output_type": "stream",
     "text": [
      "/tmp/ipykernel_79782/2103419292.py:2: FutureWarning: The default value of regex will change from True to False in a future version. In addition, single character regular expressions will *not* be treated as literal strings when regex=True.\n",
      "  listingPrice[\"price\"] = listingPrice[\"price\"].str.replace(\"$\",\"\").str.replace(\",\",\"\").astype(\"float\")\n",
      "/tmp/ipykernel_79782/2103419292.py:2: SettingWithCopyWarning: \n",
      "A value is trying to be set on a copy of a slice from a DataFrame.\n",
      "Try using .loc[row_indexer,col_indexer] = value instead\n",
      "\n",
      "See the caveats in the documentation: https://pandas.pydata.org/pandas-docs/stable/user_guide/indexing.html#returning-a-view-versus-a-copy\n",
      "  listingPrice[\"price\"] = listingPrice[\"price\"].str.replace(\"$\",\"\").str.replace(\",\",\"\").astype(\"float\")\n"
     ]
    }
   ],
   "source": [
    "listingPrice = pf[[\"room_type\",\"price\"]]\n",
    "listingPrice[\"price\"] = listingPrice[\"price\"].str.replace(\"$\",\"\").str.replace(\",\",\"\").astype(\"float\")\n",
    "quartile_et_autre = listingPrice.groupby(listingPrice.room_type).describe()"
   ]
  },
  {
   "cell_type": "code",
   "execution_count": null,
   "metadata": {},
   "outputs": [],
   "source": [
    "quartile_et_autre"
   ]
  },
  {
   "cell_type": "markdown",
   "metadata": {},
   "source": [
    "VOICI LA REPONSE A :Quel est le prix median par type de room, le maximum, le minimum, le premier et le troisième quartile?"
   ]
  },
  {
   "cell_type": "code",
   "execution_count": null,
   "metadata": {},
   "outputs": [],
   "source": [
    "quartile_et_autre.to_csv(\"quartile_et_autre.csv\")"
   ]
  },
  {
   "cell_type": "code",
   "execution_count": null,
   "metadata": {},
   "outputs": [],
   "source": [
    "pf.host_acceptance_rate.str.rstrip(\"%\").astype(float).mean()"
   ]
  },
  {
   "cell_type": "code",
   "execution_count": null,
   "metadata": {},
   "outputs": [],
   "source": [
    "pf.host_response_rate.str.rstrip(\"%\").astype(float).mean()"
   ]
  },
  {
   "cell_type": "code",
   "execution_count": null,
   "metadata": {},
   "outputs": [],
   "source": [
    "pf.replace(to_replace=\"work_email\", value='work', regex=True,inplace=True)"
   ]
  },
  {
   "cell_type": "code",
   "execution_count": null,
   "metadata": {},
   "outputs": [],
   "source": [
    "listingPhone =  pf[\"host_verifications\"].apply( lambda x : 1 if \"phone\" in x else 0).sum()\n",
    "\n",
    "\n",
    "\n",
    "listingWorkEmail = pf[\"host_verifications\"].apply( lambda x : 1 if \"work\" in x else 0).sum()\n",
    "\n",
    "\n",
    "listingEmail = pf[\"host_verifications\"].apply( lambda x : 1 if \"email\" in x else 0).sum()\n",
    "\n"
   ]
  },
  {
   "cell_type": "markdown",
   "metadata": {},
   "source": [
    "ON PASSE A LA QUESTION SUR LES BATHS "
   ]
  },
  {
   "cell_type": "code",
   "execution_count": null,
   "metadata": {},
   "outputs": [],
   "source": [
    "pf.bathrooms_text.unique()"
   ]
  },
  {
   "cell_type": "code",
   "execution_count": 466,
   "metadata": {},
   "outputs": [],
   "source": [
    "pf.bathrooms_text = pf.bathrooms_text.astype(\"string\")"
   ]
  },
  {
   "cell_type": "code",
   "execution_count": 469,
   "metadata": {},
   "outputs": [
    {
     "data": {
      "text/plain": [
       "string[python]"
      ]
     },
     "execution_count": 469,
     "metadata": {},
     "output_type": "execute_result"
    }
   ],
   "source": [
    "pf.bathrooms_text.dtypes"
   ]
  },
  {
   "cell_type": "code",
   "execution_count": 470,
   "metadata": {},
   "outputs": [
    {
     "data": {
      "text/html": [
       "<div>\n",
       "<style scoped>\n",
       "    .dataframe tbody tr th:only-of-type {\n",
       "        vertical-align: middle;\n",
       "    }\n",
       "\n",
       "    .dataframe tbody tr th {\n",
       "        vertical-align: top;\n",
       "    }\n",
       "\n",
       "    .dataframe thead th {\n",
       "        text-align: right;\n",
       "    }\n",
       "</style>\n",
       "<table border=\"1\" class=\"dataframe\">\n",
       "  <thead>\n",
       "    <tr style=\"text-align: right;\">\n",
       "      <th></th>\n",
       "      <th>id</th>\n",
       "      <th>listing_url</th>\n",
       "      <th>scrape_id</th>\n",
       "      <th>last_scraped</th>\n",
       "      <th>source</th>\n",
       "      <th>name</th>\n",
       "      <th>description</th>\n",
       "      <th>neighborhood_overview</th>\n",
       "      <th>picture_url</th>\n",
       "      <th>host_id</th>\n",
       "      <th>...</th>\n",
       "      <th>review_scores_communication</th>\n",
       "      <th>review_scores_location</th>\n",
       "      <th>review_scores_value</th>\n",
       "      <th>license</th>\n",
       "      <th>instant_bookable</th>\n",
       "      <th>calculated_host_listings_count</th>\n",
       "      <th>calculated_host_listings_count_entire_homes</th>\n",
       "      <th>calculated_host_listings_count_private_rooms</th>\n",
       "      <th>calculated_host_listings_count_shared_rooms</th>\n",
       "      <th>reviews_per_month</th>\n",
       "    </tr>\n",
       "  </thead>\n",
       "  <tbody>\n",
       "    <tr>\n",
       "      <th>0</th>\n",
       "      <td>579652405189065070</td>\n",
       "      <td>https://www.airbnb.com/rooms/579652405189065070</td>\n",
       "      <td>20220912200234</td>\n",
       "      <td>2022-09-12</td>\n",
       "      <td>city scrape</td>\n",
       "      <td>Appartement cosy dans centre historique de Bourg</td>\n",
       "      <td>Dans le centre historique de Bourg, idéalement...</td>\n",
       "      <td>Vous vous situez dans le centre historique de ...</td>\n",
       "      <td>https://a0.muscache.com/pictures/miso/Hosting-...</td>\n",
       "      <td>15134863</td>\n",
       "      <td>...</td>\n",
       "      <td>5.00</td>\n",
       "      <td>5.00</td>\n",
       "      <td>4.93</td>\n",
       "      <td>NaN</td>\n",
       "      <td>t</td>\n",
       "      <td>1</td>\n",
       "      <td>1</td>\n",
       "      <td>0</td>\n",
       "      <td>0</td>\n",
       "      <td>2.74</td>\n",
       "    </tr>\n",
       "    <tr>\n",
       "      <th>1</th>\n",
       "      <td>49797548</td>\n",
       "      <td>https://www.airbnb.com/rooms/49797548</td>\n",
       "      <td>20220912200234</td>\n",
       "      <td>2022-09-12</td>\n",
       "      <td>city scrape</td>\n",
       "      <td>Maison de vacances entre Bordeaux et le Bassin</td>\n",
       "      <td>Villa moderne idéalement située entre Bordeaux...</td>\n",
       "      <td>Ballades à pied ou à vélo dans la foret: 5 vél...</td>\n",
       "      <td>https://a0.muscache.com/pictures/miso/Hosting-...</td>\n",
       "      <td>83677621</td>\n",
       "      <td>...</td>\n",
       "      <td>5.00</td>\n",
       "      <td>5.00</td>\n",
       "      <td>5.00</td>\n",
       "      <td>NaN</td>\n",
       "      <td>f</td>\n",
       "      <td>1</td>\n",
       "      <td>1</td>\n",
       "      <td>0</td>\n",
       "      <td>0</td>\n",
       "      <td>0.21</td>\n",
       "    </tr>\n",
       "    <tr>\n",
       "      <th>2</th>\n",
       "      <td>218103</td>\n",
       "      <td>https://www.airbnb.com/rooms/218103</td>\n",
       "      <td>20220912200234</td>\n",
       "      <td>2022-09-13</td>\n",
       "      <td>city scrape</td>\n",
       "      <td>B&amp;B Apart.Suite  / tropical garden</td>\n",
       "      <td>&lt;b&gt;The space&lt;/b&gt;&lt;br /&gt;The Bambooyard  : \"Le cl...</td>\n",
       "      <td>NaN</td>\n",
       "      <td>https://a0.muscache.com/pictures/9ba23c8f-4780...</td>\n",
       "      <td>1127981</td>\n",
       "      <td>...</td>\n",
       "      <td>4.96</td>\n",
       "      <td>4.57</td>\n",
       "      <td>4.54</td>\n",
       "      <td>NaN</td>\n",
       "      <td>f</td>\n",
       "      <td>4</td>\n",
       "      <td>4</td>\n",
       "      <td>0</td>\n",
       "      <td>0</td>\n",
       "      <td>0.44</td>\n",
       "    </tr>\n",
       "    <tr>\n",
       "      <th>3</th>\n",
       "      <td>1117474</td>\n",
       "      <td>https://www.airbnb.com/rooms/1117474</td>\n",
       "      <td>20220912200234</td>\n",
       "      <td>2022-09-13</td>\n",
       "      <td>city scrape</td>\n",
       "      <td>INCROYABLE T3 EN HYPERCENTRE</td>\n",
       "      <td>&lt;b&gt;The space&lt;/b&gt;&lt;br /&gt;In the heart of the hist...</td>\n",
       "      <td>NaN</td>\n",
       "      <td>https://a0.muscache.com/pictures/20359851/80f7...</td>\n",
       "      <td>6133211</td>\n",
       "      <td>...</td>\n",
       "      <td>4.88</td>\n",
       "      <td>4.93</td>\n",
       "      <td>4.80</td>\n",
       "      <td>330630009852A</td>\n",
       "      <td>f</td>\n",
       "      <td>1</td>\n",
       "      <td>1</td>\n",
       "      <td>0</td>\n",
       "      <td>0</td>\n",
       "      <td>3.31</td>\n",
       "    </tr>\n",
       "    <tr>\n",
       "      <th>4</th>\n",
       "      <td>1136724</td>\n",
       "      <td>https://www.airbnb.com/rooms/1136724</td>\n",
       "      <td>20220912200234</td>\n",
       "      <td>2022-09-12</td>\n",
       "      <td>city scrape</td>\n",
       "      <td>Spacious house, 4 guests with Garden &amp; Garage</td>\n",
       "      <td>BOOK A STREET ART HOUSE! Cozy, colorful and cl...</td>\n",
       "      <td>NaN</td>\n",
       "      <td>https://a0.muscache.com/pictures/b876925a-2b69...</td>\n",
       "      <td>3774373</td>\n",
       "      <td>...</td>\n",
       "      <td>4.91</td>\n",
       "      <td>4.62</td>\n",
       "      <td>4.70</td>\n",
       "      <td>33063003349C9</td>\n",
       "      <td>t</td>\n",
       "      <td>4</td>\n",
       "      <td>4</td>\n",
       "      <td>0</td>\n",
       "      <td>0</td>\n",
       "      <td>4.36</td>\n",
       "    </tr>\n",
       "    <tr>\n",
       "      <th>...</th>\n",
       "      <td>...</td>\n",
       "      <td>...</td>\n",
       "      <td>...</td>\n",
       "      <td>...</td>\n",
       "      <td>...</td>\n",
       "      <td>...</td>\n",
       "      <td>...</td>\n",
       "      <td>...</td>\n",
       "      <td>...</td>\n",
       "      <td>...</td>\n",
       "      <td>...</td>\n",
       "      <td>...</td>\n",
       "      <td>...</td>\n",
       "      <td>...</td>\n",
       "      <td>...</td>\n",
       "      <td>...</td>\n",
       "      <td>...</td>\n",
       "      <td>...</td>\n",
       "      <td>...</td>\n",
       "      <td>...</td>\n",
       "      <td>...</td>\n",
       "    </tr>\n",
       "    <tr>\n",
       "      <th>10880</th>\n",
       "      <td>591221838086690180</td>\n",
       "      <td>https://www.airbnb.com/rooms/591221838086690180</td>\n",
       "      <td>20220912200234</td>\n",
       "      <td>2022-09-13</td>\n",
       "      <td>previous scrape</td>\n",
       "      <td>Maison chaleureuse avec piscine près de Bordeaux</td>\n",
       "      <td>Bienvenue dans notre maison ! &lt;br /&gt;C'est notr...</td>\n",
       "      <td>Nous sommes situés à 20 min de la gare de bord...</td>\n",
       "      <td>https://a0.muscache.com/pictures/miso/Hosting-...</td>\n",
       "      <td>5220890</td>\n",
       "      <td>...</td>\n",
       "      <td>NaN</td>\n",
       "      <td>NaN</td>\n",
       "      <td>NaN</td>\n",
       "      <td>NaN</td>\n",
       "      <td>t</td>\n",
       "      <td>1</td>\n",
       "      <td>1</td>\n",
       "      <td>0</td>\n",
       "      <td>0</td>\n",
       "      <td>NaN</td>\n",
       "    </tr>\n",
       "    <tr>\n",
       "      <th>10881</th>\n",
       "      <td>50594474</td>\n",
       "      <td>https://www.airbnb.com/rooms/50594474</td>\n",
       "      <td>20220912200234</td>\n",
       "      <td>2022-09-13</td>\n",
       "      <td>city scrape</td>\n",
       "      <td>Le clos des vignes****</td>\n",
       "      <td>À 20 minutes de Bordeaux et à 3 minutes des so...</td>\n",
       "      <td>NaN</td>\n",
       "      <td>https://a0.muscache.com/pictures/miso/Hosting-...</td>\n",
       "      <td>408562043</td>\n",
       "      <td>...</td>\n",
       "      <td>4.95</td>\n",
       "      <td>4.74</td>\n",
       "      <td>4.83</td>\n",
       "      <td>NaN</td>\n",
       "      <td>f</td>\n",
       "      <td>2</td>\n",
       "      <td>2</td>\n",
       "      <td>0</td>\n",
       "      <td>0</td>\n",
       "      <td>5.73</td>\n",
       "    </tr>\n",
       "    <tr>\n",
       "      <th>10882</th>\n",
       "      <td>556379338554707629</td>\n",
       "      <td>https://www.airbnb.com/rooms/556379338554707629</td>\n",
       "      <td>20220912200234</td>\n",
       "      <td>2022-09-13</td>\n",
       "      <td>city scrape</td>\n",
       "      <td>escale gourmande au coeur des vignobles</td>\n",
       "      <td>studio independant comportant:&lt;br /&gt;&lt;br /&gt; une...</td>\n",
       "      <td>quartier calme ambiance vigne et campagne à 2 ...</td>\n",
       "      <td>https://a0.muscache.com/pictures/6349e9f7-cdce...</td>\n",
       "      <td>62440676</td>\n",
       "      <td>...</td>\n",
       "      <td>4.77</td>\n",
       "      <td>4.73</td>\n",
       "      <td>4.64</td>\n",
       "      <td>NaN</td>\n",
       "      <td>t</td>\n",
       "      <td>3</td>\n",
       "      <td>2</td>\n",
       "      <td>1</td>\n",
       "      <td>0</td>\n",
       "      <td>6.11</td>\n",
       "    </tr>\n",
       "    <tr>\n",
       "      <th>10883</th>\n",
       "      <td>16789721</td>\n",
       "      <td>https://www.airbnb.com/rooms/16789721</td>\n",
       "      <td>20220912200234</td>\n",
       "      <td>2022-09-13</td>\n",
       "      <td>previous scrape</td>\n",
       "      <td>Logement aux portes de Bordeaux et de l'océan</td>\n",
       "      <td>Situé au départ de la route des châteaux, à 10...</td>\n",
       "      <td>Quartier calme</td>\n",
       "      <td>https://a0.muscache.com/pictures/miso/Hosting-...</td>\n",
       "      <td>111565429</td>\n",
       "      <td>...</td>\n",
       "      <td>5.00</td>\n",
       "      <td>4.88</td>\n",
       "      <td>4.88</td>\n",
       "      <td>NaN</td>\n",
       "      <td>t</td>\n",
       "      <td>1</td>\n",
       "      <td>1</td>\n",
       "      <td>0</td>\n",
       "      <td>0</td>\n",
       "      <td>0.26</td>\n",
       "    </tr>\n",
       "    <tr>\n",
       "      <th>10884</th>\n",
       "      <td>678024184489558143</td>\n",
       "      <td>https://www.airbnb.com/rooms/678024184489558143</td>\n",
       "      <td>20220912200234</td>\n",
       "      <td>2022-09-13</td>\n",
       "      <td>previous scrape</td>\n",
       "      <td>Jolie maison familiale avec jardin paysagé</td>\n",
       "      <td>Notre maison familiale se situe dans un lotiss...</td>\n",
       "      <td>Notre maison se trouve dans un petit lotisseme...</td>\n",
       "      <td>https://a0.muscache.com/pictures/miso/Hosting-...</td>\n",
       "      <td>23002270</td>\n",
       "      <td>...</td>\n",
       "      <td>NaN</td>\n",
       "      <td>NaN</td>\n",
       "      <td>NaN</td>\n",
       "      <td>NaN</td>\n",
       "      <td>f</td>\n",
       "      <td>1</td>\n",
       "      <td>1</td>\n",
       "      <td>0</td>\n",
       "      <td>0</td>\n",
       "      <td>NaN</td>\n",
       "    </tr>\n",
       "  </tbody>\n",
       "</table>\n",
       "<p>10876 rows × 75 columns</p>\n",
       "</div>"
      ],
      "text/plain": [
       "                       id                                      listing_url  \\\n",
       "0      579652405189065070  https://www.airbnb.com/rooms/579652405189065070   \n",
       "1                49797548            https://www.airbnb.com/rooms/49797548   \n",
       "2                  218103              https://www.airbnb.com/rooms/218103   \n",
       "3                 1117474             https://www.airbnb.com/rooms/1117474   \n",
       "4                 1136724             https://www.airbnb.com/rooms/1136724   \n",
       "...                   ...                                              ...   \n",
       "10880  591221838086690180  https://www.airbnb.com/rooms/591221838086690180   \n",
       "10881            50594474            https://www.airbnb.com/rooms/50594474   \n",
       "10882  556379338554707629  https://www.airbnb.com/rooms/556379338554707629   \n",
       "10883            16789721            https://www.airbnb.com/rooms/16789721   \n",
       "10884  678024184489558143  https://www.airbnb.com/rooms/678024184489558143   \n",
       "\n",
       "            scrape_id last_scraped           source  \\\n",
       "0      20220912200234   2022-09-12      city scrape   \n",
       "1      20220912200234   2022-09-12      city scrape   \n",
       "2      20220912200234   2022-09-13      city scrape   \n",
       "3      20220912200234   2022-09-13      city scrape   \n",
       "4      20220912200234   2022-09-12      city scrape   \n",
       "...               ...          ...              ...   \n",
       "10880  20220912200234   2022-09-13  previous scrape   \n",
       "10881  20220912200234   2022-09-13      city scrape   \n",
       "10882  20220912200234   2022-09-13      city scrape   \n",
       "10883  20220912200234   2022-09-13  previous scrape   \n",
       "10884  20220912200234   2022-09-13  previous scrape   \n",
       "\n",
       "                                                   name  \\\n",
       "0      Appartement cosy dans centre historique de Bourg   \n",
       "1        Maison de vacances entre Bordeaux et le Bassin   \n",
       "2                    B&B Apart.Suite  / tropical garden   \n",
       "3                          INCROYABLE T3 EN HYPERCENTRE   \n",
       "4         Spacious house, 4 guests with Garden & Garage   \n",
       "...                                                 ...   \n",
       "10880  Maison chaleureuse avec piscine près de Bordeaux   \n",
       "10881                            Le clos des vignes****   \n",
       "10882           escale gourmande au coeur des vignobles   \n",
       "10883     Logement aux portes de Bordeaux et de l'océan   \n",
       "10884        Jolie maison familiale avec jardin paysagé   \n",
       "\n",
       "                                             description  \\\n",
       "0      Dans le centre historique de Bourg, idéalement...   \n",
       "1      Villa moderne idéalement située entre Bordeaux...   \n",
       "2      <b>The space</b><br />The Bambooyard  : \"Le cl...   \n",
       "3      <b>The space</b><br />In the heart of the hist...   \n",
       "4      BOOK A STREET ART HOUSE! Cozy, colorful and cl...   \n",
       "...                                                  ...   \n",
       "10880  Bienvenue dans notre maison ! <br />C'est notr...   \n",
       "10881  À 20 minutes de Bordeaux et à 3 minutes des so...   \n",
       "10882  studio independant comportant:<br /><br /> une...   \n",
       "10883  Situé au départ de la route des châteaux, à 10...   \n",
       "10884  Notre maison familiale se situe dans un lotiss...   \n",
       "\n",
       "                                   neighborhood_overview  \\\n",
       "0      Vous vous situez dans le centre historique de ...   \n",
       "1      Ballades à pied ou à vélo dans la foret: 5 vél...   \n",
       "2                                                    NaN   \n",
       "3                                                    NaN   \n",
       "4                                                    NaN   \n",
       "...                                                  ...   \n",
       "10880  Nous sommes situés à 20 min de la gare de bord...   \n",
       "10881                                                NaN   \n",
       "10882  quartier calme ambiance vigne et campagne à 2 ...   \n",
       "10883                                     Quartier calme   \n",
       "10884  Notre maison se trouve dans un petit lotisseme...   \n",
       "\n",
       "                                             picture_url    host_id  ...  \\\n",
       "0      https://a0.muscache.com/pictures/miso/Hosting-...   15134863  ...   \n",
       "1      https://a0.muscache.com/pictures/miso/Hosting-...   83677621  ...   \n",
       "2      https://a0.muscache.com/pictures/9ba23c8f-4780...    1127981  ...   \n",
       "3      https://a0.muscache.com/pictures/20359851/80f7...    6133211  ...   \n",
       "4      https://a0.muscache.com/pictures/b876925a-2b69...    3774373  ...   \n",
       "...                                                  ...        ...  ...   \n",
       "10880  https://a0.muscache.com/pictures/miso/Hosting-...    5220890  ...   \n",
       "10881  https://a0.muscache.com/pictures/miso/Hosting-...  408562043  ...   \n",
       "10882  https://a0.muscache.com/pictures/6349e9f7-cdce...   62440676  ...   \n",
       "10883  https://a0.muscache.com/pictures/miso/Hosting-...  111565429  ...   \n",
       "10884  https://a0.muscache.com/pictures/miso/Hosting-...   23002270  ...   \n",
       "\n",
       "      review_scores_communication review_scores_location review_scores_value  \\\n",
       "0                            5.00                   5.00                4.93   \n",
       "1                            5.00                   5.00                5.00   \n",
       "2                            4.96                   4.57                4.54   \n",
       "3                            4.88                   4.93                4.80   \n",
       "4                            4.91                   4.62                4.70   \n",
       "...                           ...                    ...                 ...   \n",
       "10880                         NaN                    NaN                 NaN   \n",
       "10881                        4.95                   4.74                4.83   \n",
       "10882                        4.77                   4.73                4.64   \n",
       "10883                        5.00                   4.88                4.88   \n",
       "10884                         NaN                    NaN                 NaN   \n",
       "\n",
       "             license instant_bookable calculated_host_listings_count  \\\n",
       "0                NaN                t                              1   \n",
       "1                NaN                f                              1   \n",
       "2                NaN                f                              4   \n",
       "3      330630009852A                f                              1   \n",
       "4      33063003349C9                t                              4   \n",
       "...              ...              ...                            ...   \n",
       "10880            NaN                t                              1   \n",
       "10881            NaN                f                              2   \n",
       "10882            NaN                t                              3   \n",
       "10883            NaN                t                              1   \n",
       "10884            NaN                f                              1   \n",
       "\n",
       "      calculated_host_listings_count_entire_homes  \\\n",
       "0                                               1   \n",
       "1                                               1   \n",
       "2                                               4   \n",
       "3                                               1   \n",
       "4                                               4   \n",
       "...                                           ...   \n",
       "10880                                           1   \n",
       "10881                                           2   \n",
       "10882                                           2   \n",
       "10883                                           1   \n",
       "10884                                           1   \n",
       "\n",
       "      calculated_host_listings_count_private_rooms  \\\n",
       "0                                                0   \n",
       "1                                                0   \n",
       "2                                                0   \n",
       "3                                                0   \n",
       "4                                                0   \n",
       "...                                            ...   \n",
       "10880                                            0   \n",
       "10881                                            0   \n",
       "10882                                            1   \n",
       "10883                                            0   \n",
       "10884                                            0   \n",
       "\n",
       "      calculated_host_listings_count_shared_rooms reviews_per_month  \n",
       "0                                               0              2.74  \n",
       "1                                               0              0.21  \n",
       "2                                               0              0.44  \n",
       "3                                               0              3.31  \n",
       "4                                               0              4.36  \n",
       "...                                           ...               ...  \n",
       "10880                                           0               NaN  \n",
       "10881                                           0              5.73  \n",
       "10882                                           0              6.11  \n",
       "10883                                           0              0.26  \n",
       "10884                                           0               NaN  \n",
       "\n",
       "[10876 rows x 75 columns]"
      ]
     },
     "execution_count": 470,
     "metadata": {},
     "output_type": "execute_result"
    }
   ],
   "source": [
    "pf.dropna(subset = ['bathrooms_text'])"
   ]
  },
  {
   "cell_type": "code",
   "execution_count": null,
   "metadata": {},
   "outputs": [],
   "source": []
  },
  {
   "cell_type": "code",
   "execution_count": 471,
   "metadata": {},
   "outputs": [],
   "source": [
    "pf[\"Bath\"] = pf[\"bathrooms_text\"]\n"
   ]
  },
  {
   "cell_type": "code",
   "execution_count": 472,
   "metadata": {},
   "outputs": [
    {
     "data": {
      "text/plain": [
       "<StringArray>\n",
       "[        '1.5 baths',           '3 baths',            '1 bath',\n",
       "    '1 private bath',                <NA>,           '2 baths',\n",
       "     '1 shared bath',  'Shared half-bath',           '4 baths',\n",
       "           '8 baths',           '5 baths',         '4.5 baths',\n",
       "         '2.5 baths',           '0 baths',  '1.5 shared baths',\n",
       "         '3.5 baths',         'Half-bath',    '3 shared baths',\n",
       "           '6 baths',         '5.5 baths',           '7 baths',\n",
       "    '0 shared baths',  '2.5 shared baths', 'Private half-bath',\n",
       "    '2 shared baths',         '6.5 baths',    '4 shared baths',\n",
       "        '11.5 baths',         '7.5 baths']\n",
       "Length: 29, dtype: string"
      ]
     },
     "execution_count": 472,
     "metadata": {},
     "output_type": "execute_result"
    }
   ],
   "source": [
    "pf[\"Bath\"].unique()"
   ]
  },
  {
   "cell_type": "code",
   "execution_count": 473,
   "metadata": {},
   "outputs": [],
   "source": [
    "pf[\"Bath\"] = pf[\"Bath\"].str.replace(\"baths\",\"bath\")"
   ]
  },
  {
   "cell_type": "code",
   "execution_count": 474,
   "metadata": {},
   "outputs": [],
   "source": [
    "pf[\"Bath\"] = pf[\"Bath\"].str.lower()"
   ]
  },
  {
   "cell_type": "code",
   "execution_count": 475,
   "metadata": {},
   "outputs": [],
   "source": [
    "# pf[[\"nb\",\"type\"]] = pf[\"Bath\"].str.split(\" \",1,expand=True)"
   ]
  },
  {
   "cell_type": "code",
   "execution_count": 476,
   "metadata": {},
   "outputs": [],
   "source": [
    "pf[\"Bath\"] = pf[\"Bath\"].str.replace(\"private bath\",\"2\")"
   ]
  },
  {
   "cell_type": "code",
   "execution_count": 477,
   "metadata": {},
   "outputs": [],
   "source": [
    "pf[\"Bath\"] = pf[\"Bath\"].str.replace(\"shared half-bath\",\"1 0.25\")"
   ]
  },
  {
   "cell_type": "code",
   "execution_count": 478,
   "metadata": {},
   "outputs": [],
   "source": [
    "pf[\"Bath\"] = pf[\"Bath\"].str.replace(\"private half-bath\",\"1 1\")"
   ]
  },
  {
   "cell_type": "code",
   "execution_count": 479,
   "metadata": {},
   "outputs": [],
   "source": [
    "pf[\"Bath\"] = pf[\"Bath\"].str.replace(\"half-bath\",\"1 0.5\")"
   ]
  },
  {
   "cell_type": "code",
   "execution_count": 480,
   "metadata": {},
   "outputs": [],
   "source": [
    "pf[\"Bath\"] = pf[\"Bath\"].str.replace(\"shared bath\",\"0.5\")"
   ]
  },
  {
   "cell_type": "code",
   "execution_count": 481,
   "metadata": {},
   "outputs": [],
   "source": [
    "pf[\"Bath\"] = pf[\"Bath\"].str.replace(\"bath\",\"1\")"
   ]
  },
  {
   "cell_type": "code",
   "execution_count": null,
   "metadata": {},
   "outputs": [],
   "source": [
    "#pf[\"Bath\"] = pf[\"Bath\"].str.replace(\"half-bath\",\"0.5-\")"
   ]
  },
  {
   "cell_type": "code",
   "execution_count": 482,
   "metadata": {},
   "outputs": [
    {
     "data": {
      "text/plain": [
       "0        1.5 1\n",
       "1          3 1\n",
       "2          1 1\n",
       "3          1 1\n",
       "4          1 1\n",
       "         ...  \n",
       "10880      2 1\n",
       "10881      1 1\n",
       "10882      1 1\n",
       "10883      1 1\n",
       "10884      1 1\n",
       "Name: Bath, Length: 10876, dtype: string"
      ]
     },
     "execution_count": 482,
     "metadata": {},
     "output_type": "execute_result"
    }
   ],
   "source": [
    "pf[\"Bath\"].dropna()"
   ]
  },
  {
   "cell_type": "code",
   "execution_count": 483,
   "metadata": {},
   "outputs": [
    {
     "data": {
      "text/plain": [
       "<StringArray>\n",
       "[  '1.5 1',     '3 1',     '1 1',     '1 2',     '2 1',   '1 0.5',  '1 0.25',\n",
       "     '4 1',     '8 1',     '5 1',   '4.5 1',   '2.5 1',     '0 1', '1.5 0.5',\n",
       "   '3.5 1',   '3 0.5',     '6 1',   '5.5 1',     '7 1',   '0 0.5', '2.5 0.5',\n",
       "   '2 0.5',   '6.5 1',   '4 0.5',  '11.5 1',   '7.5 1']\n",
       "Length: 26, dtype: string"
      ]
     },
     "execution_count": 483,
     "metadata": {},
     "output_type": "execute_result"
    }
   ],
   "source": [
    "pf.Bath.dropna().unique()"
   ]
  },
  {
   "cell_type": "code",
   "execution_count": 484,
   "metadata": {},
   "outputs": [
    {
     "name": "stderr",
     "output_type": "stream",
     "text": [
      "/tmp/ipykernel_79782/548100858.py:1: FutureWarning: In a future version of pandas all arguments of StringMethods.split except for the argument 'pat' will be keyword-only.\n",
      "  pf[[\"nb\",\"type\"]] = pf[\"Bath\"].str.split(\" \",1,expand=True)\n"
     ]
    }
   ],
   "source": [
    "pf[[\"nb\",\"type\"]] = pf[\"Bath\"].str.split(\" \",1,expand=True)"
   ]
  },
  {
   "cell_type": "code",
   "execution_count": 485,
   "metadata": {},
   "outputs": [
    {
     "data": {
      "text/plain": [
       "0        1.5\n",
       "1          3\n",
       "2          1\n",
       "3          1\n",
       "4          1\n",
       "        ... \n",
       "10880      2\n",
       "10881      1\n",
       "10882      1\n",
       "10883      1\n",
       "10884      1\n",
       "Name: nb, Length: 10876, dtype: string"
      ]
     },
     "execution_count": 485,
     "metadata": {},
     "output_type": "execute_result"
    }
   ],
   "source": [
    "pfNb = pf.nb.dropna()\n",
    "pfNb"
   ]
  },
  {
   "cell_type": "code",
   "execution_count": 486,
   "metadata": {},
   "outputs": [
    {
     "data": {
      "text/plain": [
       "<StringArray>\n",
       "[  '1.5 1',     '3 1',     '1 1',     '1 2',      <NA>,     '2 1',   '1 0.5',\n",
       "  '1 0.25',     '4 1',     '8 1',     '5 1',   '4.5 1',   '2.5 1',     '0 1',\n",
       " '1.5 0.5',   '3.5 1',   '3 0.5',     '6 1',   '5.5 1',     '7 1',   '0 0.5',\n",
       " '2.5 0.5',   '2 0.5',   '6.5 1',   '4 0.5',  '11.5 1',   '7.5 1']\n",
       "Length: 27, dtype: string"
      ]
     },
     "execution_count": 486,
     "metadata": {},
     "output_type": "execute_result"
    }
   ],
   "source": [
    "pf[\"Bath\"].unique()"
   ]
  },
  {
   "cell_type": "code",
   "execution_count": null,
   "metadata": {},
   "outputs": [],
   "source": [
    "pfType = pf.type.dropna()\n",
    "pfType"
   ]
  },
  {
   "cell_type": "code",
   "execution_count": 487,
   "metadata": {},
   "outputs": [],
   "source": [
    "pf[\"nb\"]=pf[\"nb\"].astype(float)\n",
    "pf[\"type\"]=pf[\"type\"].astype(float)"
   ]
  },
  {
   "cell_type": "code",
   "execution_count": 543,
   "metadata": {},
   "outputs": [
    {
     "name": "stderr",
     "output_type": "stream",
     "text": [
      "/tmp/ipykernel_79782/307847141.py:1: SettingWithCopyWarning: \n",
      "A value is trying to be set on a copy of a slice from a DataFrame.\n",
      "Try using .loc[row_indexer,col_indexer] = value instead\n",
      "\n",
      "See the caveats in the documentation: https://pandas.pydata.org/pandas-docs/stable/user_guide/indexing.html#returning-a-view-versus-a-copy\n",
      "  pf[\"value_bath\"] = pf[\"nb\"]*pf[\"type\"]\n"
     ]
    }
   ],
   "source": [
    "pf[\"value_bath\"] = pf[\"nb\"]*pf[\"type\"]"
   ]
  },
  {
   "cell_type": "code",
   "execution_count": null,
   "metadata": {},
   "outputs": [],
   "source": []
  },
  {
   "cell_type": "code",
   "execution_count": null,
   "metadata": {},
   "outputs": [
    {
     "data": {
      "text/plain": [
       "neighbourhood_group_cleansed\n",
       "Ambars-et-Lagrave               65\n",
       "Ambs                            49\n",
       "Artigues-Prs-Bordeaux           91\n",
       "Bassens                         30\n",
       "Bgles                          375\n",
       "Blanquefort                     97\n",
       "Bordeaux                      4622\n",
       "Bouliac                         72\n",
       "Bruges                         163\n",
       "Carbon-Blanc                    42\n",
       "Cenon                          203\n",
       "Eysines                        133\n",
       "Floirac                        122\n",
       "Gradignan                      159\n",
       "Le Bouscat                     270\n",
       "Le Haillan                      43\n",
       "Le Taillan-Mdoc                 68\n",
       "Lormont                        118\n",
       "Martignas-sur-Jalle             58\n",
       "Merignac                       518\n",
       "Parempuyre                      51\n",
       "Pessac                         427\n",
       "Saint-Aubin-de-Mdoc             80\n",
       "Saint-Louis-de-Montferrand      12\n",
       "Saint-Mdard-en-Jalles          188\n",
       "Saint-Vincent-de-Paul           28\n",
       "Talence                        429\n",
       "Villenave-d'Ornon              287\n",
       "Name: host_id, dtype: int64"
      ]
     },
     "metadata": {},
     "output_type": "display_data"
    }
   ],
   "source": [
    "listGroupbyNeight =  pf.groupby(pf.neighbourhood_group_cleansed)\n",
    "listGroupbyNeight.host_id.nunique()\n"
   ]
  },
  {
   "cell_type": "code",
   "execution_count": 535,
   "metadata": {},
   "outputs": [
    {
     "ename": "AttributeError",
     "evalue": "'DataFrame' object has no attribute 'popo'",
     "output_type": "error",
     "traceback": [
      "\u001b[0;31m---------------------------------------------------------------------------\u001b[0m",
      "\u001b[0;31mAttributeError\u001b[0m                            Traceback (most recent call last)",
      "Cell \u001b[0;32mIn [535], line 1\u001b[0m\n\u001b[0;32m----> 1\u001b[0m lesbath\u001b[39m=\u001b[39m pf\u001b[39m.\u001b[39mnb\u001b[39m.\u001b[39mgroupby(pf\u001b[39m.\u001b[39;49mpopo)\u001b[39m.\u001b[39mcount()\n",
      "File \u001b[0;32m~/miniconda3/envs/kmpp/lib/python3.9/site-packages/pandas/core/generic.py:5902\u001b[0m, in \u001b[0;36mNDFrame.__getattr__\u001b[0;34m(self, name)\u001b[0m\n\u001b[1;32m   5895\u001b[0m \u001b[39mif\u001b[39;00m (\n\u001b[1;32m   5896\u001b[0m     name \u001b[39mnot\u001b[39;00m \u001b[39min\u001b[39;00m \u001b[39mself\u001b[39m\u001b[39m.\u001b[39m_internal_names_set\n\u001b[1;32m   5897\u001b[0m     \u001b[39mand\u001b[39;00m name \u001b[39mnot\u001b[39;00m \u001b[39min\u001b[39;00m \u001b[39mself\u001b[39m\u001b[39m.\u001b[39m_metadata\n\u001b[1;32m   5898\u001b[0m     \u001b[39mand\u001b[39;00m name \u001b[39mnot\u001b[39;00m \u001b[39min\u001b[39;00m \u001b[39mself\u001b[39m\u001b[39m.\u001b[39m_accessors\n\u001b[1;32m   5899\u001b[0m     \u001b[39mand\u001b[39;00m \u001b[39mself\u001b[39m\u001b[39m.\u001b[39m_info_axis\u001b[39m.\u001b[39m_can_hold_identifiers_and_holds_name(name)\n\u001b[1;32m   5900\u001b[0m ):\n\u001b[1;32m   5901\u001b[0m     \u001b[39mreturn\u001b[39;00m \u001b[39mself\u001b[39m[name]\n\u001b[0;32m-> 5902\u001b[0m \u001b[39mreturn\u001b[39;00m \u001b[39mobject\u001b[39;49m\u001b[39m.\u001b[39;49m\u001b[39m__getattribute__\u001b[39;49m(\u001b[39mself\u001b[39;49m, name)\n",
      "\u001b[0;31mAttributeError\u001b[0m: 'DataFrame' object has no attribute 'popo'"
     ]
    }
   ],
   "source": [
    "lesbath= pf.nb.groupby(pf.value_bath).count()"
   ]
  },
  {
   "cell_type": "markdown",
   "metadata": {},
   "source": [
    "VOICI LA REPONSE A LA QUESTION SUR LES BATHS"
   ]
  },
  {
   "cell_type": "code",
   "execution_count": null,
   "metadata": {},
   "outputs": [],
   "source": [
    "lesbath.to_csv(\"lesbath.csv\")"
   ]
  },
  {
   "cell_type": "markdown",
   "metadata": {},
   "source": [
    "ON A ENFIN NOTRE REPONSE"
   ]
  },
  {
   "cell_type": "code",
   "execution_count": null,
   "metadata": {},
   "outputs": [],
   "source": [
    "pf.columns"
   ]
  },
  {
   "cell_type": "markdown",
   "metadata": {},
   "source": [
    "on se demande si il y a une correlation entre la taille de la description et le nombre de reviews"
   ]
  },
  {
   "cell_type": "code",
   "execution_count": null,
   "metadata": {},
   "outputs": [],
   "source": [
    "pf.nb"
   ]
  },
  {
   "cell_type": "code",
   "execution_count": null,
   "metadata": {},
   "outputs": [],
   "source": [
    "pf.description"
   ]
  },
  {
   "cell_type": "code",
   "execution_count": 512,
   "metadata": {},
   "outputs": [],
   "source": [
    "pf[\"description\"] = pf.description.astype(\"string\")"
   ]
  },
  {
   "cell_type": "code",
   "execution_count": 513,
   "metadata": {},
   "outputs": [],
   "source": [
    "pf = pf.dropna(subset=['description'])"
   ]
  },
  {
   "cell_type": "code",
   "execution_count": 514,
   "metadata": {},
   "outputs": [
    {
     "name": "stderr",
     "output_type": "stream",
     "text": [
      "/tmp/ipykernel_79782/320712926.py:1: SettingWithCopyWarning: \n",
      "A value is trying to be set on a copy of a slice from a DataFrame.\n",
      "Try using .loc[row_indexer,col_indexer] = value instead\n",
      "\n",
      "See the caveats in the documentation: https://pandas.pydata.org/pandas-docs/stable/user_guide/indexing.html#returning-a-view-versus-a-copy\n",
      "  pf[\"lenghth\"] = pf.description.apply(len)\n"
     ]
    }
   ],
   "source": [
    "pf[\"lenghth\"] = pf.description.apply(len)"
   ]
  },
  {
   "cell_type": "code",
   "execution_count": null,
   "metadata": {},
   "outputs": [],
   "source": [
    "pf[\"lenghth\"].unique()"
   ]
  },
  {
   "cell_type": "code",
   "execution_count": null,
   "metadata": {},
   "outputs": [],
   "source": [
    "pf.number_of_reviews.corr(pf[\"lenghth\"])"
   ]
  },
  {
   "cell_type": "markdown",
   "metadata": {},
   "source": [
    "VOICI NOTRE REPONSE POUR LA CORROLATION\n"
   ]
  },
  {
   "cell_type": "code",
   "execution_count": null,
   "metadata": {},
   "outputs": [],
   "source": []
  },
  {
   "cell_type": "markdown",
   "metadata": {},
   "source": [
    "il y a une légère corrolation "
   ]
  },
  {
   "cell_type": "code",
   "execution_count": null,
   "metadata": {},
   "outputs": [],
   "source": [
    "pf.name"
   ]
  },
  {
   "cell_type": "code",
   "execution_count": null,
   "metadata": {},
   "outputs": [],
   "source": [
    "pf.info()\n"
   ]
  },
  {
   "cell_type": "markdown",
   "metadata": {},
   "source": [
    "On suspecte des faux commentaires. Pour identifier cela on regarde les séjours où le nom de l’host est le même que le nom du reviewer. Quel est ce pourcentage général de séjour où le nom de l'host est identique au nom du reviewer?"
   ]
  },
  {
   "cell_type": "markdown",
   "metadata": {},
   "source": [
    "comme on a pas le nom du reviewer dans listing , mais dans reviews , on va devoir \"merge\" listingsB et reviews "
   ]
  },
  {
   "cell_type": "code",
   "execution_count": null,
   "metadata": {},
   "outputs": [],
   "source": [
    "revdf = pd.read_csv(\"reviewsdet.csv\")"
   ]
  },
  {
   "cell_type": "code",
   "execution_count": null,
   "metadata": {},
   "outputs": [],
   "source": [
    "pf[\"comments\"]= pf[\"description\"]"
   ]
  },
  {
   "cell_type": "code",
   "execution_count": null,
   "metadata": {},
   "outputs": [],
   "source": [
    "revdf.columns"
   ]
  },
  {
   "cell_type": "code",
   "execution_count": null,
   "metadata": {},
   "outputs": [],
   "source": [
    "revdf.reviewer_id"
   ]
  },
  {
   "cell_type": "markdown",
   "metadata": {},
   "source": []
  },
  {
   "cell_type": "markdown",
   "metadata": {},
   "source": []
  },
  {
   "cell_type": "code",
   "execution_count": null,
   "metadata": {},
   "outputs": [],
   "source": [
    "pp = pf.merge(revdf, left_on='id', right_on='listing_id')  "
   ]
  },
  {
   "cell_type": "code",
   "execution_count": null,
   "metadata": {},
   "outputs": [],
   "source": [
    "tricheur = pp[pp['host_name']==pp['reviewer_name']].shape[0]"
   ]
  },
  {
   "cell_type": "code",
   "execution_count": null,
   "metadata": {},
   "outputs": [],
   "source": [
    "tricheur"
   ]
  },
  {
   "cell_type": "code",
   "execution_count": null,
   "metadata": {},
   "outputs": [],
   "source": [
    "equal_percent = tricheur/pp.shape[0]*100  "
   ]
  },
  {
   "cell_type": "code",
   "execution_count": null,
   "metadata": {},
   "outputs": [],
   "source": [
    "pp.shape[0]"
   ]
  },
  {
   "cell_type": "code",
   "execution_count": null,
   "metadata": {},
   "outputs": [],
   "source": [
    "equal_percent"
   ]
  },
  {
   "cell_type": "code",
   "execution_count": null,
   "metadata": {},
   "outputs": [],
   "source": [
    "pf"
   ]
  },
  {
   "cell_type": "code",
   "execution_count": null,
   "metadata": {},
   "outputs": [],
   "source": [
    "pf.host_acceptance_rate"
   ]
  },
  {
   "cell_type": "code",
   "execution_count": null,
   "metadata": {},
   "outputs": [],
   "source": [
    "pf.number_of_reviews"
   ]
  },
  {
   "cell_type": "code",
   "execution_count": null,
   "metadata": {},
   "outputs": [],
   "source": [
    "pf['host_response_rate'] = pd.to_numeric(pf['host_response_rate'], errors='coerce')"
   ]
  },
  {
   "cell_type": "code",
   "execution_count": null,
   "metadata": {},
   "outputs": [],
   "source": [
    "listingPhone"
   ]
  },
  {
   "cell_type": "code",
   "execution_count": null,
   "metadata": {},
   "outputs": [],
   "source": [
    "listingWorkEmail"
   ]
  },
  {
   "cell_type": "code",
   "execution_count": null,
   "metadata": {},
   "outputs": [],
   "source": [
    "listingEmail"
   ]
  },
  {
   "cell_type": "code",
   "execution_count": null,
   "metadata": {},
   "outputs": [],
   "source": [
    "y = np.array([listingPhone,listingEmail,listingWorkEmail,])\n",
    "mylabels = [\"PhoneVerification:10808\", \"EmailVerification:10010\", \"WorkEmailverification:702\",]\n",
    "\n",
    "plt.pie(y, labels = mylabels)\n",
    "\n",
    "plt.show()"
   ]
  },
  {
   "cell_type": "code",
   "execution_count": null,
   "metadata": {},
   "outputs": [],
   "source": [
    "pf.host_acceptance_rate.dtypes"
   ]
  },
  {
   "cell_type": "code",
   "execution_count": null,
   "metadata": {},
   "outputs": [],
   "source": [
    "pf.host_acceptance_rate.str.rstrip(\"%\").astype(float).mean()\n"
   ]
  },
  {
   "cell_type": "code",
   "execution_count": null,
   "metadata": {},
   "outputs": [],
   "source": [
    "pf.host_response_rate.str.rstrip(\"%\").astype(float).mean()"
   ]
  },
  {
   "cell_type": "code",
   "execution_count": null,
   "metadata": {},
   "outputs": [],
   "source": [
    "pf.drop(['host_id',\"scrape_id\"], axis=1)"
   ]
  },
  {
   "cell_type": "code",
   "execution_count": null,
   "metadata": {},
   "outputs": [],
   "source": [
    "y = np.array([listingPhone,listingEmail,listingWorkEmail,])\n",
    "mylabels = [\"PhoneVerification:10808\", \"EmailVerification:10010\", \"WorkEmailverification:702\",]\n",
    "\n",
    "plt.pie(y, labels = mylabels)\n",
    "\n",
    "plt.show()"
   ]
  },
  {
   "cell_type": "code",
   "execution_count": null,
   "metadata": {},
   "outputs": [],
   "source": [
    "ap = pf.describe()"
   ]
  },
  {
   "cell_type": "code",
   "execution_count": null,
   "metadata": {},
   "outputs": [],
   "source": [
    "ap.dtypes"
   ]
  },
  {
   "cell_type": "code",
   "execution_count": null,
   "metadata": {},
   "outputs": [],
   "source": [
    "y = np.array([listingPhone,listingEmail,listingWorkEmail,])\n",
    "mylabels = [\"PhoneVerification:10808\", \"EmailVerification:10010\", \"WorkEmailverification:702\",]\n",
    "\n",
    "plt.pie(y, labels = mylabels)\n",
    "\n",
    "plt.show()"
   ]
  },
  {
   "cell_type": "code",
   "execution_count": null,
   "metadata": {},
   "outputs": [],
   "source": [
    "pf.info()"
   ]
  },
  {
   "cell_type": "code",
   "execution_count": null,
   "metadata": {},
   "outputs": [],
   "source": [
    "pf.neighbourhood_group_cleansed"
   ]
  },
  {
   "cell_type": "code",
   "execution_count": null,
   "metadata": {},
   "outputs": [],
   "source": []
  },
  {
   "cell_type": "code",
   "execution_count": null,
   "metadata": {},
   "outputs": [],
   "source": [
    "sns.barplot(y = pf.neighbourhood_group_cleansed,\n",
    "            x = pf.number_of_reviews,\n",
    "            data = pf)\n",
    " \n",
    "# Show the plot\n",
    "plt.show()"
   ]
  },
  {
   "cell_type": "code",
   "execution_count": null,
   "metadata": {},
   "outputs": [],
   "source": [
    "pf.columns"
   ]
  },
  {
   "cell_type": "code",
   "execution_count": 529,
   "metadata": {},
   "outputs": [
    {
     "data": {
      "image/png": "[encoded data removed]",
      "text/plain": [
       "<Figure size 640x480 with 1 Axes>"
      ]
     },
     "metadata": {},
     "output_type": "display_data"
    }
   ],
   "source": [
    "sns.barplot(y = pf.neighbourhood_group_cleansed,\n",
    "            x = pf.number_of_reviews,\n",
    "            data = pf)\n",
    " \n",
    "# Show the plot\n",
    "plt.show()"
   ]
  },
  {
   "cell_type": "code",
   "execution_count": null,
   "metadata": {},
   "outputs": [],
   "source": []
  },
  {
   "cell_type": "code",
   "execution_count": 567,
   "metadata": {},
   "outputs": [
    {
     "data": {
      "image/png": "[encoded data removed]",
      "text/plain": [
       "<Figure size 640x480 with 1 Axes>"
      ]
     },
     "metadata": {},
     "output_type": "display_data"
    }
   ],
   "source": [
    "ax =sns.barplot(x = truc.room_type,\n",
    "            y = truc.lenght,\n",
    "            data = truc,\n",
    "            )\n",
    " \n",
    "\n",
    "plt.show()"
   ]
  },
  {
   "cell_type": "code",
   "execution_count": null,
   "metadata": {},
   "outputs": [],
   "source": [
    "pf.price.unique()"
   ]
  },
  {
   "cell_type": "code",
   "execution_count": null,
   "metadata": {},
   "outputs": [],
   "source": [
    "pf.price.u"
   ]
  },
  {
   "cell_type": "code",
   "execution_count": 547,
   "metadata": {},
   "outputs": [
    {
     "data": {
      "image/png": "[encoded data removed]",
      "text/plain": [
       "<Figure size 640x480 with 1 Axes>"
      ]
     },
     "metadata": {},
     "output_type": "display_data"
    }
   ],
   "source": [
    "sns.boxplot( x=pf[\"room_type\"], y=listingPrice[\"price\"],showfliers = False )\n",
    "plt.title(\"nombre moyen d'amenities et ecart type \")\n",
    "plt.show()"
   ]
  },
  {
   "cell_type": "code",
   "execution_count": 544,
   "metadata": {},
   "outputs": [
    {
     "data": {
      "image/png": "[encoded data removed]",
      "text/plain": [
       "<Figure size 640x480 with 1 Axes>"
      ]
     },
     "metadata": {},
     "output_type": "display_data"
    }
   ],
   "source": [
    "sns.histplot(data=pf, x=pf.value_bath, bins=10)\n",
    "plt.title(\"par valeur de salle de bain\")\n",
    "plt.show()"
   ]
  },
  {
   "cell_type": "code",
   "execution_count": 517,
   "metadata": {},
   "outputs": [
    {
     "name": "stderr",
     "output_type": "stream",
     "text": [
      "/tmp/ipykernel_79782/3933248058.py:1: SettingWithCopyWarning: \n",
      "A value is trying to be set on a copy of a slice from a DataFrame.\n",
      "Try using .loc[row_indexer,col_indexer] = value instead\n",
      "\n",
      "See the caveats in the documentation: https://pandas.pydata.org/pandas-docs/stable/user_guide/indexing.html#returning-a-view-versus-a-copy\n",
      "  pf[\"contribue\"]= pf.number_of_reviews/2\n"
     ]
    }
   ],
   "source": [
    "pf[\"contribue\"]= pf.number_of_reviews/2"
   ]
  },
  {
   "cell_type": "code",
   "execution_count": 518,
   "metadata": {},
   "outputs": [
    {
     "data": {
      "text/plain": [
       "<AxesSubplot:xlabel='contribue', ylabel='number_of_reviews'>"
      ]
     },
     "execution_count": 518,
     "metadata": {},
     "output_type": "execute_result"
    },
    {
     "data": {
      "image/png": "[encoded data removed]",
      "text/plain": [
       "<Figure size 640x480 with 1 Axes>"
      ]
     },
     "metadata": {},
     "output_type": "display_data"
    }
   ],
   "source": [
    "sns.scatterplot(data = pf, y = pf.number_of_reviews, x = pf.contribue)"
   ]
  },
  {
   "cell_type": "code",
   "execution_count": 526,
   "metadata": {},
   "outputs": [
    {
     "data": {
      "image/png": "[encoded data removed]",
      "text/plain": [
       "<Figure size 640x480 with 1 Axes>"
      ]
     },
     "metadata": {},
     "output_type": "display_data"
    }
   ],
   "source": [
    "sns.scatterplot(data = pf,alpha = 0.1,color = \"red\", y = pf.number_of_reviews, x = pf.lenghth)\n",
    "plt.title(\"pas tres clair\",color = \"black\" )\n",
    "plt.show()"
   ]
  }
 ],
 "metadata": {
  "kernelspec": {
   "display_name": "Python 3.9.15 ('kmpp')",
   "language": "python",
   "name": "python3"
  },
  "language_info": {
   "codemirror_mode": {
    "name": "ipython",
    "version": 3
   },
   "file_extension": ".py",
   "mimetype": "text/x-python",
   "name": "python",
   "nbconvert_exporter": "python",
   "pygments_lexer": "ipython3",
   "version": "3.9.15"
  },
  "orig_nbformat": 4,
  "vscode": {
   "interpreter": {
    "hash": "134c4dc1bc3e0440fd45e6dae2e7c04fe162a36fccfae1db6bf457adc1656543"
   }
  }
 },
 "nbformat": 4,
 "nbformat_minor": 2
}
