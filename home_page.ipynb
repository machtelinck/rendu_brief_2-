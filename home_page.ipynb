{
 "cells": [
  {
   "cell_type": "code",
   "execution_count": null,
   "metadata": {},
   "outputs": [],
   "source": []
  }
 ],
 "metadata": {
  "kernelspec": {
   "display_name": "Python 3.9.15 ('kmpp')",
   "language": "python",
   "name": "python3"
  },
  "language_info": {
   "name": "python",
   "version": "3.9.15"
  },
  "orig_nbformat": 4,
  "vscode": {
   "interpreter": {
    "hash": "134c4dc1bc3e0440fd45e6dae2e7c04fe162a36fccfae1db6bf457adc1656543"
   }
  }
 },
 "nbformat": 4,
 "nbformat_minor": 2
}
